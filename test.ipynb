{
 "cells": [
  {
   "cell_type": "code",
   "execution_count": 8,
   "metadata": {},
   "outputs": [
    {
     "name": "stdout",
     "output_type": "stream",
     "text": [
      "['d:\\\\Codes\\\\python\\\\Proj\\\\3D-construction-based-on-deeplearning', 'd:\\\\anaconda3\\\\envs\\\\ml\\\\python39.zip', 'd:\\\\anaconda3\\\\envs\\\\ml\\\\DLLs', 'd:\\\\anaconda3\\\\envs\\\\ml\\\\lib', 'd:\\\\anaconda3\\\\envs\\\\ml', '', 'd:\\\\anaconda3\\\\envs\\\\ml\\\\lib\\\\site-packages', 'd:\\\\anaconda3\\\\envs\\\\ml\\\\lib\\\\site-packages\\\\win32', 'd:\\\\anaconda3\\\\envs\\\\ml\\\\lib\\\\site-packages\\\\win32\\\\lib', 'd:\\\\anaconda3\\\\envs\\\\ml\\\\lib\\\\site-packages\\\\Pythonwin', 'd:/../colored_construction', 'd:\\\\Codes\\\\python\\\\Proj\\\\3D-construction-based-on-deeplearning\\\\colored_construction', 'd:\\\\Codes\\\\python\\\\Proj\\\\3D-construction-based-on-deeplearning\\\\colored_construction']\n"
     ]
    }
   ],
   "source": [
    "import numpy as np\n",
    "import cv2\n",
    "import os\n",
    "import pandas as pd\n",
    "import sys\n",
    "sys.path.append(os.path.join(os.getcwd(), 'colored_construction'))\n",
    "print(sys.path)\n",
    "from utils_col import Pixel, Divide,calcualte_height,plot_height_map\n",
    "\n",
    "import utils\n"
   ]
  },
  {
   "cell_type": "code",
   "execution_count": 9,
   "metadata": {},
   "outputs": [
    {
     "name": "stdout",
     "output_type": "stream",
     "text": [
      "d:\\Codes\\python\\Proj\\3D-construction-based-on-deeplearning\n"
     ]
    }
   ],
   "source": [
    "print(os.getcwd())\n"
   ]
  },
  {
   "cell_type": "code",
   "execution_count": 10,
   "metadata": {},
   "outputs": [],
   "source": [
    "source = './data/RGB.xlsx'\n",
    "df = pd.read_excel(source)"
   ]
  },
  {
   "cell_type": "code",
   "execution_count": 11,
   "metadata": {},
   "outputs": [
    {
     "name": "stdout",
     "output_type": "stream",
     "text": [
      "        晶面     R              G      B\n",
      "0  （1 0 1）    40             30  170.0\n",
      "1  （1 1 0）    30            170   40.0\n",
      "2  （0 1 1）   170             30   40.0\n",
      "3      NaN   NaN            NaN    NaN\n",
      "4      NaN   NaN            NaN    NaN\n",
      "5      NaN  观察平面  （1 0.83 0.97）    NaN\n"
     ]
    }
   ],
   "source": [
    "print(df)\n"
   ]
  },
  {
   "cell_type": "code",
   "execution_count": 12,
   "metadata": {},
   "outputs": [],
   "source": [
    "nan_rows = df['晶面'].isnull().idxmax()"
   ]
  },
  {
   "cell_type": "code",
   "execution_count": 24,
   "metadata": {},
   "outputs": [
    {
     "data": {
      "text/plain": [
       "<map at 0x1947f8c7e50>"
      ]
     },
     "execution_count": 24,
     "metadata": {},
     "output_type": "execute_result"
    }
   ],
   "source": [
    "map(int,)"
   ]
  },
  {
   "cell_type": "code",
   "execution_count": null,
   "metadata": {},
   "outputs": [],
   "source": []
  }
 ],
 "metadata": {
  "kernelspec": {
   "display_name": "ml",
   "language": "python",
   "name": "python3"
  },
  "language_info": {
   "codemirror_mode": {
    "name": "ipython",
    "version": 3
   },
   "file_extension": ".py",
   "mimetype": "text/x-python",
   "name": "python",
   "nbconvert_exporter": "python",
   "pygments_lexer": "ipython3",
   "version": "3.9.18"
  }
 },
 "nbformat": 4,
 "nbformat_minor": 2
}
