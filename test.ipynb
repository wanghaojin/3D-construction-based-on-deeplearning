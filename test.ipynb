{
 "cells": [
  {
   "cell_type": "code",
   "execution_count": 4,
   "metadata": {},
   "outputs": [
    {
     "name": "stdout",
     "output_type": "stream",
     "text": [
      "['d:\\\\Codes\\\\python\\\\Proj\\\\3D-construction-based-on-deeplearning', 'd:\\\\anaconda3\\\\envs\\\\ml\\\\python39.zip', 'd:\\\\anaconda3\\\\envs\\\\ml\\\\DLLs', 'd:\\\\anaconda3\\\\envs\\\\ml\\\\lib', 'd:\\\\anaconda3\\\\envs\\\\ml', '', 'd:\\\\anaconda3\\\\envs\\\\ml\\\\lib\\\\site-packages', 'd:\\\\anaconda3\\\\envs\\\\ml\\\\lib\\\\site-packages\\\\win32', 'd:\\\\anaconda3\\\\envs\\\\ml\\\\lib\\\\site-packages\\\\win32\\\\lib', 'd:\\\\anaconda3\\\\envs\\\\ml\\\\lib\\\\site-packages\\\\Pythonwin', 'd:/../colored_construction', 'd:\\\\Codes\\\\python\\\\Proj\\\\3D-construction-based-on-deeplearning\\\\colored_construction']\n"
     ]
    }
   ],
   "source": [
    "import numpy as np\n",
    "import cv2\n",
    "import os\n",
    "import pandas as pd\n",
    "import sys\n",
    "sys.path.append(os.path.join(os.getcwd(), 'colored_construction'))\n",
    "print(sys.path)\n",
    "from utils_col import Pixel, Divide,calcualte_height,plot_height_map\n",
    "\n",
    "import utils\n"
   ]
  },
  {
   "cell_type": "code",
   "execution_count": 5,
   "metadata": {},
   "outputs": [
    {
     "name": "stdout",
     "output_type": "stream",
     "text": [
      "d:\\Codes\\python\\Proj\\3D-construction-based-on-deeplearning\n"
     ]
    }
   ],
   "source": [
    "print(os.getcwd())\n"
   ]
  },
  {
   "cell_type": "code",
   "execution_count": 7,
   "metadata": {},
   "outputs": [],
   "source": [
    "sorce = './data/RGB.xlsx'\n",
    "path = \"./data/image.tif\"\n",
    "image = None\n",
    "if os.path.exists(path):\n",
    "    image = cv2.imread(path)\n",
    "df = pd.read_excel(sorce)"
   ]
  },
  {
   "cell_type": "code",
   "execution_count": null,
   "metadata": {},
   "outputs": [],
   "source": []
  }
 ],
 "metadata": {
  "kernelspec": {
   "display_name": "ml",
   "language": "python",
   "name": "python3"
  },
  "language_info": {
   "codemirror_mode": {
    "name": "ipython",
    "version": 3
   },
   "file_extension": ".py",
   "mimetype": "text/x-python",
   "name": "python",
   "nbconvert_exporter": "python",
   "pygments_lexer": "ipython3",
   "version": "3.9.18"
  }
 },
 "nbformat": 4,
 "nbformat_minor": 2
}
